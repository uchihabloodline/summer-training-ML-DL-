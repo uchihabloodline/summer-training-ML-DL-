{
 "cells": [
  {
   "cell_type": "code",
   "execution_count": 1,
   "metadata": {
    "collapsed": true
   },
   "outputs": [],
   "source": [
    "import numpy as np\n",
    "import random"
   ]
  },
  {
   "cell_type": "code",
   "execution_count": 2,
   "metadata": {
    "collapsed": true
   },
   "outputs": [],
   "source": [
    "f = open('input.txt')\n",
    "ds = f.read()\n",
    "f.close()"
   ]
  },
  {
   "cell_type": "code",
   "execution_count": 5,
   "metadata": {},
   "outputs": [
    {
     "name": "stdout",
     "output_type": "stream",
     "text": [
      "3382026\n",
      "<type 'str'>\n"
     ]
    }
   ],
   "source": [
    "print len(ds)\n",
    "print type(ds)\n",
    "\n",
    "start = 2500\n",
    "length = 50000\n",
    "\n",
    "data = ' '.join([ix.strip() for ix in ds[start:start+length].split('\\n')]).lower()"
   ]
  },
  {
   "cell_type": "code",
   "execution_count": 8,
   "metadata": {},
   "outputs": [
    {
     "name": "stdout",
     "output_type": "stream",
     "text": [
      "45844\n",
      "48\n",
      "set(['!', ' ', '\"', \"'\", ')', '(', '-', ',', '.', '1', '0', '3', '2', '5', '4', '7', '6', '9', '8', ';', ':', '?', 'a', 'c', 'b', 'e', 'd', 'g', 'f', 'i', 'h', 'k', 'j', 'm', 'l', 'o', 'n', 'q', 'p', 's', 'r', 'u', 't', 'w', 'v', 'y', 'x', 'z'])\n"
     ]
    }
   ],
   "source": [
    "print len(data)\n",
    "\n",
    "x = set()\n",
    "for ix in data:\n",
    "    x.add(ix)\n",
    "print len(x)\n",
    "print x"
   ]
  },
  {
   "cell_type": "code",
   "execution_count": 16,
   "metadata": {
    "collapsed": true
   },
   "outputs": [],
   "source": [
    "## Transition Matrix - Frequency Values\n",
    "T = {}\n",
    "\n",
    "## order context\n",
    "order = 3\n",
    "\n",
    "for cx in range(len(data) - order):\n",
    "    cntx = data[cx:cx+order] ## Current State\n",
    "    \n",
    "    future_val = data[cx+order] ## Next State\n",
    "    if T.get(cntx) is None:\n",
    "        T[cntx] = {}\n",
    "        T[cntx][future_val] = 1\n",
    "    else:\n",
    "        if T[cntx].get(future_val) is None:\n",
    "            T[cntx][future_val] = 1\n",
    "        else:\n",
    "            T[cntx][future_val] = T[cntx][future_val] + 1"
   ]
  },
  {
   "cell_type": "code",
   "execution_count": 17,
   "metadata": {},
   "outputs": [],
   "source": [
    "## Transition Matrix Probabilities\n",
    "count = 0\n",
    "for key in T.keys():\n",
    "    #if count>4:\n",
    "        #break\n",
    "    count+=1\n",
    "    possible = T[key] ## Dict of all next states for this \"key\" current state\n",
    "    \n",
    "    total = float(sum(T[key].values()))\n",
    "    #print key, \"---\", T[key], \"---\", total\n",
    "    \n",
    "    for k in T[key].keys():\n",
    "        T[key][k] = T[key][k]/total\n",
    "    \n",
    "    #print key, \"---\", T[key], \"---\", total\n",
    "    #print \"---------------\""
   ]
  },
  {
   "cell_type": "code",
   "execution_count": 35,
   "metadata": {
    "collapsed": true
   },
   "outputs": [],
   "source": [
    "def generate_next_character(cntx):\n",
    "    '''Returns next state given an input current state'''\n",
    "    possible = T.get(cntx) ## Dict of possible next states for the input current state\n",
    "    \n",
    "    if possible is None:\n",
    "        return ' '\n",
    "    shuffled_keys = possible.keys()\n",
    "    \n",
    "    ## Only exploration\n",
    "    random.shuffle(shuffled_keys)\n",
    "    \n",
    "    ## For exploitation also\n",
    "    ## shuffled_keys = sorted(shuffled_keys, key=shuffled_keys.values(), reverse=True)\n",
    "    \n",
    "    r = np.random.random()\n",
    "    #print r\n",
    "    #print shuffled_keys\n",
    "    key_probs = [possible[kx] for kx in shuffled_keys]\n",
    "    #print key_probs\n",
    "    for k in range(len(key_probs)):\n",
    "        if r< key_probs[k]:\n",
    "            return shuffled_keys[k]\n",
    "    return random.choice(shuffled_keys)"
   ]
  },
  {
   "cell_type": "code",
   "execution_count": 36,
   "metadata": {},
   "outputs": [
    {
     "data": {
      "text/plain": [
       "'p'"
      ]
     },
     "execution_count": 36,
     "metadata": {},
     "output_type": "execute_result"
    }
   ],
   "source": [
    "generate_next_character('sco')"
   ]
  },
  {
   "cell_type": "code",
   "execution_count": 39,
   "metadata": {},
   "outputs": [
    {
     "name": "stdout",
     "output_type": "stream",
     "text": [
      " entrial marked; \"it of nose ove could facumstable tes glaned the save deten.  ween to me so the plained\n"
     ]
    }
   ],
   "source": [
    "## Main Loop\n",
    "index = int(np.random.random()*(len(data)-order))\n",
    "initial = data[index:index+order]\n",
    "context = initial\n",
    "sentence = ' '+context\n",
    "num_chars = 100\n",
    "for ix in range(num_chars):\n",
    "    next_char = generate_next_character(context)\n",
    "    sentence+=next_char\n",
    "    context = sentence[-order:]\n",
    "print sentence"
   ]
  },
  {
   "cell_type": "code",
   "execution_count": null,
   "metadata": {
    "collapsed": true
   },
   "outputs": [],
   "source": []
  }
 ],
 "metadata": {
  "kernelspec": {
   "display_name": "Python 2",
   "language": "python",
   "name": "python2"
  },
  "language_info": {
   "codemirror_mode": {
    "name": "ipython",
    "version": 2
   },
   "file_extension": ".py",
   "mimetype": "text/x-python",
   "name": "python",
   "nbconvert_exporter": "python",
   "pygments_lexer": "ipython2",
   "version": "2.7.15"
  }
 },
 "nbformat": 4,
 "nbformat_minor": 2
}
