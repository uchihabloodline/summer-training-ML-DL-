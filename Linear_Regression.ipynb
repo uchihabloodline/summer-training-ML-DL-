{
 "cells": [
  {
   "cell_type": "code",
   "execution_count": 1,
   "metadata": {},
   "outputs": [],
   "source": [
    "import numpy as np\n",
    "import matplotlib.pyplot as plt\n",
    "%matplotlib inline\n",
    "import pandas as pd\n",
    "from sklearn.datasets import make_regression"
   ]
  },
  {
   "cell_type": "code",
   "execution_count": 2,
   "metadata": {
    "scrolled": true
   },
   "outputs": [
    {
     "name": "stdout",
     "output_type": "stream",
     "text": [
      "(500, 1)\n",
      "(500,)\n"
     ]
    },
    {
     "data": {
      "image/png": "[encoded data removed]",
      "text/plain": [
       "<Figure size 432x288 with 1 Axes>"
      ]
     },
     "metadata": {},
     "output_type": "display_data"
    }
   ],
   "source": [
    "(X, y) = make_regression(n_samples=500, noise=6.5, bias=7.5, n_features=1)\n",
    "print X.shape\n",
    "print y.shape\n",
    "\n",
    "plt.scatter(X, y)\n",
    "plt.show()"
   ]
  },
  {
   "cell_type": "code",
   "execution_count": 34,
   "metadata": {},
   "outputs": [
    {
     "name": "stdout",
     "output_type": "stream",
     "text": [
      "(400, 1)\n"
     ]
    },
    {
     "data": {
      "text/plain": [
       "array([1.24441314])"
      ]
     },
     "execution_count": 34,
     "metadata": {},
     "output_type": "execute_result"
    }
   ],
   "source": [
    "split = int(0.8*X.shape[0])\n",
    "X_train = X[:split]\n",
    "X_test = X[split:]\n",
    "\n",
    "Y_train = y[:split]\n",
    "Y_test = y[split:]\n",
    "print X_train.shape\n",
    "X_train[0]"
   ]
  },
  {
   "cell_type": "code",
   "execution_count": 43,
   "metadata": {},
   "outputs": [],
   "source": [
    "'''Functions Needed'''\n",
    "def hypothesis(x, w):\n",
    "    '''Gives us y_predicted'''\n",
    "    x0 = 1\n",
    "    h = w[0]*x0 + w[1]*x[0]\n",
    "    return h\n",
    "\n",
    "def get_error(x, w, y_true):\n",
    "    error = 0.0\n",
    "    m = x.shape[0]\n",
    "    for ix in range(m):\n",
    "        error += (hypothesis(x[ix], w) - y_true[ix])**2\n",
    "    error = error/(2*m)\n",
    "    return error"
   ]
  },
  {
   "cell_type": "code",
   "execution_count": 44,
   "metadata": {},
   "outputs": [],
   "source": [
    "def get_grads(x, w, y_true):\n",
    "    grad_0 = 0.0\n",
    "    grad_1 = 0.0\n",
    "    \n",
    "    m = x.shape[0]\n",
    "    for ix in range(m):\n",
    "        grad_0 += (hypothesis(x[ix], w)- y_true[ix])*(-1)\n",
    "        grad_1 += (hypothesis(x[ix], w) - y_true[ix])*(-1*x[ix][0])\n",
    "    \n",
    "    return [grad_0, grad_1]"
   ]
  },
  {
   "cell_type": "code",
   "execution_count": 45,
   "metadata": {},
   "outputs": [],
   "source": [
    "def gradient_descent(x, w, y_true, learning_rate=0.01):\n",
    "    '''Batch Gradient Descent'''\n",
    "    error = get_error(x, w, y_true)\n",
    "    \n",
    "    [grad_0, grad_1] = get_grads(x, w, y_true)\n",
    "    \n",
    "    w[0] = w[0] + learning_rate*grad_0\n",
    "    w[1] = w[1] + learning_rate*grad_1\n",
    "    \n",
    "    return w, error"
   ]
  },
  {
   "cell_type": "code",
   "execution_count": 48,
   "metadata": {},
   "outputs": [
    {
     "name": "stdout",
     "output_type": "stream",
     "text": [
      "22.40398925686155\n"
     ]
    }
   ],
   "source": [
    "num_epochs = 400\n",
    "lr = 0.0001\n",
    "error_logs = []\n",
    "W = np.array([0.1, 0.1])\n",
    "for ix in range(num_epochs):\n",
    "    W, error = gradient_descent(X_train, W, Y_train, learning_rate=lr)\n",
    "    error_logs.append(error)\n",
    "print error_logs[-1]"
   ]
  },
  {
   "cell_type": "code",
   "execution_count": 49,
   "metadata": {},
   "outputs": [
    {
     "data": {
      "image/png": "[encoded data removed]",
      "text/plain": [
       "<Figure size 432x288 with 1 Axes>"
      ]
     },
     "metadata": {},
     "output_type": "display_data"
    }
   ],
   "source": [
    "plt.plot(error_logs)\n",
    "plt.show()"
   ]
  },
  {
   "cell_type": "code",
   "execution_count": 50,
   "metadata": {},
   "outputs": [
    {
     "name": "stdout",
     "output_type": "stream",
     "text": [
      "[ 7.40342049 64.72791447]\n"
     ]
    }
   ],
   "source": [
    "print W"
   ]
  },
  {
   "cell_type": "code",
   "execution_count": 52,
   "metadata": {},
   "outputs": [],
   "source": [
    "def get_test_loss(X_test, Y_test):\n",
    "    '''Homework Assignment'''\n",
    "    pass"
   ]
  },
  {
   "cell_type": "code",
   "execution_count": null,
   "metadata": {},
   "outputs": [],
   "source": []
  }
 ],
 "metadata": {
  "kernelspec": {
   "display_name": "Python 2",
   "language": "python",
   "name": "python2"
  },
  "language_info": {
   "codemirror_mode": {
    "name": "ipython",
    "version": 2
   },
   "file_extension": ".py",
   "mimetype": "text/x-python",
   "name": "python",
   "nbconvert_exporter": "python",
   "pygments_lexer": "ipython2",
   "version": "2.7.15"
  }
 },
 "nbformat": 4,
 "nbformat_minor": 2
}
