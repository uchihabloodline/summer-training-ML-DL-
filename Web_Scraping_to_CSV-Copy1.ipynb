{
 "cells": [
  {
   "cell_type": "code",
   "execution_count": 5,
   "metadata": {},
   "outputs": [],
   "source": [
    "import numpy as np\n",
    "import matplotlib.pyplot as plt\n",
    "import pandas as pd\n",
    "from requests import get\n",
    "import urllib\n",
    "import re\n",
    "from bs4 import BeautifulSoup"
   ]
  },
  {
   "cell_type": "code",
   "execution_count": 4,
   "metadata": {},
   "outputs": [
    {
     "ename": "NameError",
     "evalue": "name 'requests' is not defined",
     "output_type": "error",
     "traceback": [
      "\u001b[1;31m---------------------------------------------------------------------------\u001b[0m",
      "\u001b[1;31mNameError\u001b[0m                                 Traceback (most recent call last)",
      "\u001b[1;32m<ipython-input-4-9c1981dad96f>\u001b[0m in \u001b[0;36m<module>\u001b[1;34m()\u001b[0m\n\u001b[0;32m      9\u001b[0m     \u001b[1;32mreturn\u001b[0m \u001b[0mlinks\u001b[0m\u001b[1;33m\u001b[0m\u001b[0m\n\u001b[0;32m     10\u001b[0m \u001b[1;33m\u001b[0m\u001b[0m\n\u001b[1;32m---> 11\u001b[1;33m \u001b[0mprint\u001b[0m\u001b[1;33m(\u001b[0m \u001b[0mgetLinks\u001b[0m\u001b[1;33m(\u001b[0m\u001b[1;34m\"http://arstechnica.com\"\u001b[0m\u001b[1;33m)\u001b[0m \u001b[1;33m)\u001b[0m\u001b[1;33m\u001b[0m\u001b[0m\n\u001b[0m",
      "\u001b[1;32m<ipython-input-4-9c1981dad96f>\u001b[0m in \u001b[0;36mgetLinks\u001b[1;34m(url)\u001b[0m\n\u001b[0;32m      1\u001b[0m \u001b[1;32mdef\u001b[0m \u001b[0mgetLinks\u001b[0m\u001b[1;33m(\u001b[0m\u001b[0murl\u001b[0m\u001b[1;33m)\u001b[0m\u001b[1;33m:\u001b[0m\u001b[1;33m\u001b[0m\u001b[0m\n\u001b[1;32m----> 2\u001b[1;33m     \u001b[0mhtml_page\u001b[0m \u001b[1;33m=\u001b[0m \u001b[0mrequests\u001b[0m\u001b[1;33m.\u001b[0m\u001b[0mget\u001b[0m\u001b[1;33m(\u001b[0m\u001b[0murl\u001b[0m\u001b[1;33m)\u001b[0m\u001b[1;33m\u001b[0m\u001b[0m\n\u001b[0m\u001b[0;32m      3\u001b[0m     \u001b[0msoup\u001b[0m \u001b[1;33m=\u001b[0m \u001b[0mBeautifulSoup\u001b[0m\u001b[1;33m(\u001b[0m\u001b[0mhtml_page\u001b[0m\u001b[1;33m)\u001b[0m\u001b[1;33m\u001b[0m\u001b[0m\n\u001b[0;32m      4\u001b[0m     \u001b[0mlinks\u001b[0m \u001b[1;33m=\u001b[0m \u001b[1;33m[\u001b[0m\u001b[1;33m]\u001b[0m\u001b[1;33m\u001b[0m\u001b[0m\n\u001b[0;32m      5\u001b[0m \u001b[1;33m\u001b[0m\u001b[0m\n",
      "\u001b[1;31mNameError\u001b[0m: name 'requests' is not defined"
     ]
    }
   ],
   "source": [
    "def getLinks(url):\n",
    "    html_page = requests.get(url)\n",
    "    soup = BeautifulSoup(html_page)\n",
    "    links = []\n",
    " \n",
    "    for link in soup.findAll('a', attrs={'href': re.compile(\"^http://\")}):\n",
    "        links.append(link.get('href'))\n",
    " \n",
    "    return links\n",
    " \n",
    "print( getLinks(\"http://arstechnica.com\") )"
   ]
  },
  {
   "cell_type": "code",
   "execution_count": 150,
   "metadata": {},
   "outputs": [
    {
     "name": "stdout",
     "output_type": "stream",
     "text": [
      "<class 'requests.models.Response'>\n"
     ]
    }
   ],
   "source": [
    "    url = 'https://www.imdb.com/chart/top'\n",
    "\n",
    "## Fetch the webpage\n",
    "r = requests.get(url)\n",
    "print (type(r))"
   ]
  },
  {
   "cell_type": "code",
   "execution_count": 151,
   "metadata": {},
   "outputs": [
    {
     "data": {
      "text/plain": [
       "200"
      ]
     },
     "execution_count": 151,
     "metadata": {},
     "output_type": "execute_result"
    }
   ],
   "source": [
    "r.status_code"
   ]
  },
  {
   "cell_type": "code",
   "execution_count": 152,
   "metadata": {},
   "outputs": [],
   "source": [
    "info = r.text"
   ]
  },
  {
   "cell_type": "code",
   "execution_count": 153,
   "metadata": {},
   "outputs": [],
   "source": [
    "soup = BeautifulSoup(r.text, 'html.parser')"
   ]
  },
  {
   "cell_type": "code",
   "execution_count": 154,
   "metadata": {},
   "outputs": [
    {
     "name": "stdout",
     "output_type": "stream",
     "text": [
      "<class 'bs4.BeautifulSoup'>\n"
     ]
    }
   ],
   "source": [
    "print(type(soup))"
   ]
  },
  {
   "cell_type": "code",
   "execution_count": 155,
   "metadata": {},
   "outputs": [],
   "source": [
    "TITLES = []\n",
    "YEARS = []\n",
    "RATINGS = []\n",
    "URLS = []\n",
    "\n",
    "ACTORS = []\n",
    "DIRECTORS = []"
   ]
  },
  {
   "cell_type": "code",
   "execution_count": 156,
   "metadata": {},
   "outputs": [
    {
     "name": "stdout",
     "output_type": "stream",
     "text": [
      "1\n",
      "<class 'bs4.element.Tag'>\n",
      "<class 'bs4.element.Tag'>\n"
     ]
    }
   ],
   "source": [
    "table_inf = soup.find_all('tbody', {'class': 'lister-list'})\n",
    "print (len(table_inf))\n",
    "print (type(table_inf[0]))\n",
    "\n",
    "doc = table_inf[0]\n",
    "print(type(doc))"
   ]
  },
  {
   "cell_type": "code",
   "execution_count": 157,
   "metadata": {
    "scrolled": true
   },
   "outputs": [
    {
     "name": "stdout",
     "output_type": "stream",
     "text": [
      "250\n"
     ]
    }
   ],
   "source": [
    "rows = doc.find_all('tr')\n",
    "print (len(rows))"
   ]
  },
  {
   "cell_type": "code",
   "execution_count": 179,
   "metadata": {},
   "outputs": [
    {
     "name": "stdout",
     "output_type": "stream",
     "text": [
      "(1994)\n",
      "The Shawshank Redemption\n",
      "<class 'bytes'>\n",
      "[]\n",
      "9.2\n"
     ]
    }
   ],
   "source": [
    "test_row = rows[0]\n",
    "title_column = test_row.find('td', {'class' : 'titleColumn'})\n",
    "print(title_column.span.text)    #text added after span...nothing in original.\n",
    "print(title_column.a.text)\n",
    "print(type(title_column.a.text.encode('utf-8')))\n",
    "\n",
    "linki = title_column.findAll('a', attrs={'href': re.compile(\"^http://\")})\n",
    "print(linki)\n",
    "\n",
    "#print(test_row.td)\n",
    "##mine\n",
    "rati = test_row.find('td', {'class':'ratingColumn imdbRating'})\n",
    "print(rati.strong.text)\n"
   ]
  },
  {
   "cell_type": "code",
   "execution_count": 128,
   "metadata": {},
   "outputs": [
    {
     "name": "stdout",
     "output_type": "stream",
     "text": [
      "250\n"
     ]
    }
   ],
   "source": [
    "count = 0\n",
    "movie_root_url = 'https://www.imdb.com'\n",
    "for row in rows:\n",
    "    #if count>1:\n",
    "        #break\n",
    "    count+=1\n",
    "    title_column = row.find('td', {'class': 'titleColumn'})\n",
    "    rating_column = row.find('td', {'class' : 'ratingColumn'})\n",
    "    \n",
    "    movie_title = title_column.a.text\n",
    "    year = title_column.span.text.split('(')[-1].split(')')[0]\n",
    "    movie_rel_url = title_column.a['href']\n",
    "    movie_url = movie_root_url + movie_rel_url\n",
    "    \n",
    "    imp_people = title_column.a['title']\n",
    "    director = imp_people.split(',')[0].split('(')[0].strip()\n",
    "    \n",
    "    actors = ','.join(imp_people.split(',')[1:]).strip()\n",
    "    \n",
    "    rating = rating_column.strong.text\n",
    "    \n",
    "    TITLES.append(movie_title.encode('utf-8').decode())\n",
    "    YEARS.append(year.encode('utf-8').decode())\n",
    "    URLS.append(movie_url.encode('utf-8').decode())\n",
    "    RATINGS.append(rating.encode('utf-8').decode())\n",
    "    \n",
    "    ACTORS.append(actors.encode('utf-8'))\n",
    "    DIRECTORS.append(director.encode('utf-8'))\n",
    "    \n",
    "#     print movie_title\n",
    "#     print year\n",
    "#     print rating\n",
    "#     print movie_url\n",
    "#     print director\n",
    "#     print actors\n",
    "    #print '--------'\n",
    "print (count)"
   ]
  },
  {
   "cell_type": "code",
   "execution_count": null,
   "metadata": {},
   "outputs": [],
   "source": [
    "    director = imp_people.split(',')[0].split('(')[0].strip"
   ]
  },
  {
   "cell_type": "code",
   "execution_count": null,
   "metadata": {},
   "outputs": [],
   "source": [
    "    director = imp_people.split(',')[0].split('(')[0].strip"
   ]
  },
  {
   "cell_type": "code",
   "execution_count": 90,
   "metadata": {},
   "outputs": [
    {
     "name": "stdout",
     "output_type": "stream",
     "text": [
      "<class 'bs4.element.Tag'>\n"
     ]
    }
   ],
   "source": [
    "print (type(title_column))"
   ]
  },
  {
   "cell_type": "code",
   "execution_count": 133,
   "metadata": {},
   "outputs": [
    {
     "name": "stdout",
     "output_type": "stream",
     "text": [
      "2500\n"
     ]
    }
   ],
   "source": [
    "print (len(TITLES))\n",
    "#print len(DIRECTORS)\n",
    "#print len(ACTORS)\n",
    "#print len(RATINGS)"
   ]
  },
  {
   "cell_type": "code",
   "execution_count": 94,
   "metadata": {},
   "outputs": [],
   "source": [
    "empty_df = pd.DataFrame({'Title': TITLES, 'Rating': RATINGS, 'Year': YEARS, 'URL': URLS, 'Director': DIRECTORS, 'Actors': ACTORS}, columns=['Title', 'Year', 'Rating', 'Director', 'Actors', 'URL'])"
   ]
  },
  {
   "cell_type": "code",
   "execution_count": 136,
   "metadata": {},
   "outputs": [
    {
     "data": {
      "text/html": [
       "<div>\n",
       "<style scoped>\n",
       "    .dataframe tbody tr th:only-of-type {\n",
       "        vertical-align: middle;\n",
       "    }\n",
       "\n",
       "    .dataframe tbody tr th {\n",
       "        vertical-align: top;\n",
       "    }\n",
       "\n",
       "    .dataframe thead th {\n",
       "        text-align: right;\n",
       "    }\n",
       "</style>\n",
       "<table border=\"1\" class=\"dataframe\">\n",
       "  <thead>\n",
       "    <tr style=\"text-align: right;\">\n",
       "      <th></th>\n",
       "      <th>Title</th>\n",
       "      <th>Year</th>\n",
       "      <th>Rating</th>\n",
       "      <th>Director</th>\n",
       "      <th>Actors</th>\n",
       "      <th>URL</th>\n",
       "    </tr>\n",
       "  </thead>\n",
       "  <tbody>\n",
       "    <tr>\n",
       "      <th>0</th>\n",
       "      <td>b'The Shawshank Redemption'</td>\n",
       "      <td>b'1994'</td>\n",
       "      <td>b'9.2'</td>\n",
       "      <td>b'Frank Darabont'</td>\n",
       "      <td>b'Tim Robbins, Morgan Freeman'</td>\n",
       "      <td>b'https://www.imdb.com/title/tt0111161/?pf_rd_...</td>\n",
       "    </tr>\n",
       "    <tr>\n",
       "      <th>1</th>\n",
       "      <td>b'The Godfather'</td>\n",
       "      <td>b'1972'</td>\n",
       "      <td>b'9.2'</td>\n",
       "      <td>b'Francis Ford Coppola'</td>\n",
       "      <td>b'Marlon Brando, Al Pacino'</td>\n",
       "      <td>b'https://www.imdb.com/title/tt0068646/?pf_rd_...</td>\n",
       "    </tr>\n",
       "    <tr>\n",
       "      <th>2</th>\n",
       "      <td>b'The Godfather: Part II'</td>\n",
       "      <td>b'1974'</td>\n",
       "      <td>b'9.0'</td>\n",
       "      <td>b'Francis Ford Coppola'</td>\n",
       "      <td>b'Al Pacino, Robert De Niro'</td>\n",
       "      <td>b'https://www.imdb.com/title/tt0071562/?pf_rd_...</td>\n",
       "    </tr>\n",
       "    <tr>\n",
       "      <th>3</th>\n",
       "      <td>b'The Dark Knight'</td>\n",
       "      <td>b'2008'</td>\n",
       "      <td>b'9.0'</td>\n",
       "      <td>b'Christopher Nolan'</td>\n",
       "      <td>b'Christian Bale, Heath Ledger'</td>\n",
       "      <td>b'https://www.imdb.com/title/tt0468569/?pf_rd_...</td>\n",
       "    </tr>\n",
       "    <tr>\n",
       "      <th>4</th>\n",
       "      <td>b'12 Angry Men'</td>\n",
       "      <td>b'1957'</td>\n",
       "      <td>b'8.9'</td>\n",
       "      <td>b'Sidney Lumet'</td>\n",
       "      <td>b'Henry Fonda, Lee J. Cobb'</td>\n",
       "      <td>b'https://www.imdb.com/title/tt0050083/?pf_rd_...</td>\n",
       "    </tr>\n",
       "  </tbody>\n",
       "</table>\n",
       "</div>"
      ],
      "text/plain": [
       "                         Title     Year  Rating                 Director  \\\n",
       "0  b'The Shawshank Redemption'  b'1994'  b'9.2'        b'Frank Darabont'   \n",
       "1             b'The Godfather'  b'1972'  b'9.2'  b'Francis Ford Coppola'   \n",
       "2    b'The Godfather: Part II'  b'1974'  b'9.0'  b'Francis Ford Coppola'   \n",
       "3           b'The Dark Knight'  b'2008'  b'9.0'     b'Christopher Nolan'   \n",
       "4              b'12 Angry Men'  b'1957'  b'8.9'          b'Sidney Lumet'   \n",
       "\n",
       "                            Actors  \\\n",
       "0   b'Tim Robbins, Morgan Freeman'   \n",
       "1      b'Marlon Brando, Al Pacino'   \n",
       "2     b'Al Pacino, Robert De Niro'   \n",
       "3  b'Christian Bale, Heath Ledger'   \n",
       "4      b'Henry Fonda, Lee J. Cobb'   \n",
       "\n",
       "                                                 URL  \n",
       "0  b'https://www.imdb.com/title/tt0111161/?pf_rd_...  \n",
       "1  b'https://www.imdb.com/title/tt0068646/?pf_rd_...  \n",
       "2  b'https://www.imdb.com/title/tt0071562/?pf_rd_...  \n",
       "3  b'https://www.imdb.com/title/tt0468569/?pf_rd_...  \n",
       "4  b'https://www.imdb.com/title/tt0050083/?pf_rd_...  "
      ]
     },
     "execution_count": 136,
     "metadata": {},
     "output_type": "execute_result"
    }
   ],
   "source": [
    "empty_df.head(n=5)"
   ]
  },
  {
   "cell_type": "code",
   "execution_count": 71,
   "metadata": {},
   "outputs": [],
   "source": [
    "empty_df.to_csv('./imdb.csv', index=False)"
   ]
  },
  {
   "cell_type": "code",
   "execution_count": 137,
   "metadata": {},
   "outputs": [
    {
     "data": {
      "text/html": [
       "<div>\n",
       "<style scoped>\n",
       "    .dataframe tbody tr th:only-of-type {\n",
       "        vertical-align: middle;\n",
       "    }\n",
       "\n",
       "    .dataframe tbody tr th {\n",
       "        vertical-align: top;\n",
       "    }\n",
       "\n",
       "    .dataframe thead th {\n",
       "        text-align: right;\n",
       "    }\n",
       "</style>\n",
       "<table border=\"1\" class=\"dataframe\">\n",
       "  <thead>\n",
       "    <tr style=\"text-align: right;\">\n",
       "      <th></th>\n",
       "      <th>Title</th>\n",
       "      <th>Year</th>\n",
       "      <th>Rating</th>\n",
       "      <th>Director</th>\n",
       "      <th>Actors</th>\n",
       "      <th>URL</th>\n",
       "    </tr>\n",
       "  </thead>\n",
       "  <tbody>\n",
       "    <tr>\n",
       "      <th>0</th>\n",
       "      <td>The Shawshank Redemption</td>\n",
       "      <td>1994</td>\n",
       "      <td>9.2</td>\n",
       "      <td>Frank Darabont</td>\n",
       "      <td>Tim Robbins, Morgan Freeman</td>\n",
       "      <td>https://www.imdb.com/title/tt0111161/?pf_rd_m=...</td>\n",
       "    </tr>\n",
       "    <tr>\n",
       "      <th>1</th>\n",
       "      <td>The Godfather</td>\n",
       "      <td>1972</td>\n",
       "      <td>9.2</td>\n",
       "      <td>Francis Ford Coppola</td>\n",
       "      <td>Marlon Brando, Al Pacino</td>\n",
       "      <td>https://www.imdb.com/title/tt0068646/?pf_rd_m=...</td>\n",
       "    </tr>\n",
       "    <tr>\n",
       "      <th>2</th>\n",
       "      <td>The Godfather: Part II</td>\n",
       "      <td>1974</td>\n",
       "      <td>9.0</td>\n",
       "      <td>Francis Ford Coppola</td>\n",
       "      <td>Al Pacino, Robert De Niro</td>\n",
       "      <td>https://www.imdb.com/title/tt0071562/?pf_rd_m=...</td>\n",
       "    </tr>\n",
       "    <tr>\n",
       "      <th>3</th>\n",
       "      <td>The Dark Knight</td>\n",
       "      <td>2008</td>\n",
       "      <td>9.0</td>\n",
       "      <td>Christopher Nolan</td>\n",
       "      <td>Christian Bale, Heath Ledger</td>\n",
       "      <td>https://www.imdb.com/title/tt0468569/?pf_rd_m=...</td>\n",
       "    </tr>\n",
       "    <tr>\n",
       "      <th>4</th>\n",
       "      <td>12 Angry Men</td>\n",
       "      <td>1957</td>\n",
       "      <td>8.9</td>\n",
       "      <td>Sidney Lumet</td>\n",
       "      <td>Henry Fonda, Lee J. Cobb</td>\n",
       "      <td>https://www.imdb.com/title/tt0050083/?pf_rd_m=...</td>\n",
       "    </tr>\n",
       "  </tbody>\n",
       "</table>\n",
       "</div>"
      ],
      "text/plain": [
       "                      Title  Year  Rating              Director  \\\n",
       "0  The Shawshank Redemption  1994     9.2        Frank Darabont   \n",
       "1             The Godfather  1972     9.2  Francis Ford Coppola   \n",
       "2    The Godfather: Part II  1974     9.0  Francis Ford Coppola   \n",
       "3           The Dark Knight  2008     9.0     Christopher Nolan   \n",
       "4              12 Angry Men  1957     8.9          Sidney Lumet   \n",
       "\n",
       "                         Actors  \\\n",
       "0   Tim Robbins, Morgan Freeman   \n",
       "1      Marlon Brando, Al Pacino   \n",
       "2     Al Pacino, Robert De Niro   \n",
       "3  Christian Bale, Heath Ledger   \n",
       "4      Henry Fonda, Lee J. Cobb   \n",
       "\n",
       "                                                 URL  \n",
       "0  https://www.imdb.com/title/tt0111161/?pf_rd_m=...  \n",
       "1  https://www.imdb.com/title/tt0068646/?pf_rd_m=...  \n",
       "2  https://www.imdb.com/title/tt0071562/?pf_rd_m=...  \n",
       "3  https://www.imdb.com/title/tt0468569/?pf_rd_m=...  \n",
       "4  https://www.imdb.com/title/tt0050083/?pf_rd_m=...  "
      ]
     },
     "execution_count": 137,
     "metadata": {},
     "output_type": "execute_result"
    }
   ],
   "source": [
    "movie_data = pd.read_csv('imdb.csv')\n",
    "movie_data.head(n=5)"
   ]
  },
  {
   "cell_type": "code",
   "execution_count": 108,
   "metadata": {},
   "outputs": [
    {
     "name": "stdout",
     "output_type": "stream",
     "text": [
      "(250, 6)\n"
     ]
    }
   ],
   "source": [
    "print (movie_data.values.shape)"
   ]
  },
  {
   "cell_type": "code",
   "execution_count": 107,
   "metadata": {},
   "outputs": [],
   "source": []
  },
  {
   "cell_type": "code",
   "execution_count": null,
   "metadata": {},
   "outputs": [],
   "source": []
  }
 ],
 "metadata": {
  "kernelspec": {
   "display_name": "Python 3",
   "language": "python",
   "name": "python3"
  },
  "language_info": {
   "codemirror_mode": {
    "name": "ipython",
    "version": 3
   },
   "file_extension": ".py",
   "mimetype": "text/x-python",
   "name": "python",
   "nbconvert_exporter": "python",
   "pygments_lexer": "ipython3",
   "version": "3.6.5"
  }
 },
 "nbformat": 4,
 "nbformat_minor": 2
}
