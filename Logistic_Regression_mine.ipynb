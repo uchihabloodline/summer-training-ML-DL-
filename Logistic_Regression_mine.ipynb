{
 "cells": [
  {
   "cell_type": "code",
   "execution_count": 148,
   "metadata": {},
   "outputs": [],
   "source": [
    "import numpy as np\n",
    "import matplotlib.pyplot as plt\n",
    "%matplotlib inline"
   ]
  },
  {
   "cell_type": "code",
   "execution_count": 150,
   "metadata": {},
   "outputs": [
    {
     "name": "stdout",
     "output_type": "stream",
     "text": [
      "(500, 2)\n",
      "(500, 2)\n"
     ]
    }
   ],
   "source": [
    "mean_01 = np.array([0.1, 0.2])\n",
    "mean_02 = np.array([5.1, 5.2])\n",
    "\n",
    "cov_01 = np.array([[1.0, 0.2],[0.2, 1.1]])\n",
    "cov_02 = np.array([[1.0, 0.3],[0.3, 1.1]])\n",
    "\n",
    "dist_01 = np.random.multivariate_normal(mean_01, cov_01, 500)\n",
    "dist_02 = np.random.multivariate_normal(mean_02, cov_02, 500)\n",
    "\n",
    "print (dist_01.shape)\n",
    "print (dist_02.shape)"
   ]
  },
  {
   "cell_type": "code",
   "execution_count": 152,
   "metadata": {},
   "outputs": [
    {
     "data": {
      "image/png": "[encoded data removed]",
      "text/plain": [
       "<matplotlib.figure.Figure at 0xe64dc70>"
      ]
     },
     "metadata": {},
     "output_type": "display_data"
    }
   ],
   "source": [
    "plt.scatter(dist_01[:, 0], dist_01[:, 1], c='r')\n",
    "plt.scatter(dist_02[:, 0], dist_02[:, 1], c='b')\n",
    "\n",
    "plt.show()"
   ]
  },
  {
   "cell_type": "code",
   "execution_count": 160,
   "metadata": {},
   "outputs": [
    {
     "name": "stdout",
     "output_type": "stream",
     "text": [
      "(1000, 3)\n"
     ]
    }
   ],
   "source": [
    "## Total Dataset\n",
    "rows = dist_01.shape[0] + dist_02.shape[0]\n",
    "cols = dist_01.shape[1] + 1\n",
    "\n",
    "data = np.zeros((rows, cols))\n",
    "print (data.shape)\n",
    "\n",
    "data[:dist_01.shape[0], :dist_01.shape[1]] = dist_01\n",
    "data[dist_01.shape[0]: rows, :dist_01.shape[1]] = dist_02\n",
    "data[dist_01.shape[0]: rows, -1] = 1.0"
   ]
  },
  {
   "cell_type": "code",
   "execution_count": 162,
   "metadata": {},
   "outputs": [
    {
     "data": {
      "text/plain": [
       "array([[ 7.71120766e-01, -2.74692033e+00,  0.00000000e+00],\n",
       "       [ 3.84297872e+00,  3.62606900e+00,  1.00000000e+00],\n",
       "       [ 4.78213052e+00,  4.70983599e+00,  1.00000000e+00],\n",
       "       [ 9.01534713e-01, -7.59986404e-02,  0.00000000e+00],\n",
       "       [ 1.17817560e-01,  5.66727567e-03,  0.00000000e+00],\n",
       "       [ 3.11240024e-02,  9.10463148e-01,  0.00000000e+00],\n",
       "       [ 5.34846992e+00,  3.98370969e+00,  1.00000000e+00],\n",
       "       [ 5.07199292e+00,  4.40937539e+00,  1.00000000e+00],\n",
       "       [ 6.87759041e+00,  6.00559147e+00,  1.00000000e+00],\n",
       "       [ 3.38227264e-02, -1.11190689e+00,  0.00000000e+00]])"
      ]
     },
     "execution_count": 162,
     "metadata": {},
     "output_type": "execute_result"
    }
   ],
   "source": [
    "np.random.shuffle(data)\n",
    "\n",
    "data[:10]"
   ]
  },
  {
   "cell_type": "code",
   "execution_count": 164,
   "metadata": {},
   "outputs": [
    {
     "name": "stdout",
     "output_type": "stream",
     "text": [
      "(750, 2)\n",
      "(250, 2)\n",
      "(750,)\n",
      "(250,)\n"
     ]
    }
   ],
   "source": [
    "## Data Splitting\n",
    "split = int(0.75*data.shape[0])\n",
    "X_train = data[:split, :-1]\n",
    "Y_train = data[:split, -1]\n",
    "\n",
    "X_test = data[split:, :-1]\n",
    "Y_test = data[split:, -1]\n",
    "\n",
    "print (X_train.shape)\n",
    "print (X_test.shape)\n",
    "print (Y_train.shape)\n",
    "print (Y_test.shape)"
   ]
  },
  {
   "cell_type": "code",
   "execution_count": 166,
   "metadata": {},
   "outputs": [],
   "source": [
    "'''Functions'''\n",
    "def sigmoid(z):\n",
    "    sig = 1.0/(1 + np.exp(-1*z))\n",
    "    return sig\n",
    "\n",
    "def hypothesis(x_sample, w, b):\n",
    "    h = (x_sample*w).sum() + b\n",
    "    return sigmoid(h)\n",
    "    \n",
    "def get_error(x, w, y_true, b):\n",
    "    err = 0.0\n",
    "    m = x.shape[0]\n",
    "    \n",
    "    for ix in range(m):\n",
    "        if y_true[ix] == 0:\n",
    "            add_term = -1*(np.log(1 - hypothesis(x[ix], w, b)))\n",
    "            err += add_term\n",
    "        else:\n",
    "            add_term = -1*(np.log(hypothesis(x[ix], w, b)))\n",
    "            err += add_term\n",
    "    \n",
    "    err = err/m\n",
    "    return err"
   ]
  },
  {
   "cell_type": "code",
   "execution_count": 168,
   "metadata": {},
   "outputs": [],
   "source": [
    "def get_gradients(x, w, y_true, b):\n",
    "    \n",
    "    grad_w = np.zeros(w.shape[0])\n",
    "    grad_b = 0\n",
    "    \n",
    "    m = x.shape[0]\n",
    "    for ix in range(m):\n",
    "        grad_w += (hypothesis(x[ix], w, b) - y_true[ix])*(x[ix])\n",
    "        grad_b += (hypothesis(x[ix], w, b) - y_true[ix])*(1)\n",
    "    \n",
    "    return [grad_w, grad_b]"
   ]
  },
  {
   "cell_type": "code",
   "execution_count": 170,
   "metadata": {},
   "outputs": [],
   "source": [
    "def optimizer(x, w, y_true, b, learning_rate=0.001):\n",
    "    error = get_error(x, w, y_true, b)\n",
    "    \n",
    "    [grad_w, grad_b] = get_gradients(x, w, y_true, b)\n",
    "    \n",
    "    b = b - learning_rate*grad_b\n",
    "    w = w - learning_rate*grad_w\n",
    "    \n",
    "    return error, w, b"
   ]
  },
  {
   "cell_type": "code",
   "execution_count": 172,
   "metadata": {},
   "outputs": [],
   "source": [
    "def Logistic_Regression(X_train, Y_train, nb_epochs=200, learning_rate=0.0001):\n",
    "    \n",
    "    loss = []\n",
    "    \n",
    "    ## Parameter Initialisation\n",
    "    W = np.array([0.3, 0.2])\n",
    "    b = 3.6\n",
    "    \n",
    "    for ix in range(nb_epochs):\n",
    "        error, W, b = optimizer(X_train, W, Y_train, b, learning_rate)\n",
    "        loss.append(error)\n",
    "        \n",
    "    W_final = W\n",
    "    b_final = b\n",
    "    \n",
    "    return loss, W_final, b_final"
   ]
  },
  {
   "cell_type": "code",
   "execution_count": 174,
   "metadata": {},
   "outputs": [],
   "source": [
    "loss_logs, W_final, b_final = Logistic_Regression(X_train, Y_train)"
   ]
  },
  {
   "cell_type": "code",
   "execution_count": 176,
   "metadata": {},
   "outputs": [
    {
     "data": {
      "image/png": "[encoded data removed]",
      "text/plain": [
       "<matplotlib.figure.Figure at 0x9eb6750>"
      ]
     },
     "metadata": {},
     "output_type": "display_data"
    }
   ],
   "source": [
    "plt.plot(loss_logs)\n",
    "plt.show()"
   ]
  },
  {
   "cell_type": "code",
   "execution_count": 178,
   "metadata": {},
   "outputs": [
    {
     "name": "stdout",
     "output_type": "stream",
     "text": [
      "[0.67615448 0.17635247]\n",
      "-0.98447686341862\n",
      "[4.47975505 5.56129285]\n"
     ]
    }
   ],
   "source": [
    "print (W_final)\n",
    "print (b_final)\n",
    "print(X_test[0])"
   ]
  },
  {
   "cell_type": "code",
   "execution_count": 180,
   "metadata": {},
   "outputs": [],
   "source": [
    "def get_predict(test_point, W_final, b_final):\n",
    "    pred = hypothesis(test_point, W_final, b_final)\n",
    "    if pred >= 0.5:\n",
    "        return 1\n",
    "    else:\n",
    "        return 0"
   ]
  },
  {
   "cell_type": "code",
   "execution_count": 182,
   "metadata": {},
   "outputs": [
    {
     "name": "stdout",
     "output_type": "stream",
     "text": [
      "1\n"
     ]
    }
   ],
   "source": [
    "print(get_predict(X_test[4], W_final, b_final))"
   ]
  },
  {
   "cell_type": "code",
   "execution_count": 184,
   "metadata": {},
   "outputs": [],
   "source": [
    "def get_accuracy(X_test, Y_test, W_final, b_final ):\n",
    "    m=X_test.shape[0]\n",
    "    preds = []\n",
    "    for i in range(m):\n",
    "        predictions = get_predict(X_test[i], W_final, b_final)\n",
    "        preds.append(predictions)\n",
    "            \n",
    "    return np.sum(np.array(preds)==Y_test)/X_test.shape[0]\n",
    "        "
   ]
  },
  {
   "cell_type": "code",
   "execution_count": 186,
   "metadata": {},
   "outputs": [
    {
     "name": "stdout",
     "output_type": "stream",
     "text": [
      "0.952\n"
     ]
    }
   ],
   "source": [
    "print(get_accuracy(X_test, Y_test, W_final, b_final ))"
   ]
  },
  {
   "cell_type": "code",
   "execution_count": 188,
   "metadata": {},
   "outputs": [],
   "source": [
    "def get_test_loss(X_test, Y_test):\n",
    "    er = get_error(X_test, W_final,Y_test,b_final)\n",
    "    return er"
   ]
  },
  {
   "cell_type": "code",
   "execution_count": 189,
   "metadata": {},
   "outputs": [
    {
     "name": "stdout",
     "output_type": "stream",
     "text": [
      "0.20542979927350555\n"
     ]
    }
   ],
   "source": [
    "print(get_test_loss(X_test, Y_test))"
   ]
  }
 ],
 "metadata": {
  "kernelspec": {
   "display_name": "Python 3",
   "language": "python",
   "name": "python3"
  },
  "language_info": {
   "codemirror_mode": {
    "name": "ipython",
    "version": 3
   },
   "file_extension": ".py",
   "mimetype": "text/x-python",
   "name": "python",
   "nbconvert_exporter": "python",
   "pygments_lexer": "ipython3",
   "version": "3.6.5"
  }
 },
 "nbformat": 4,
 "nbformat_minor": 2
}
